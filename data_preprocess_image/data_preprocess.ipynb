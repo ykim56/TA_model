{
 "cells": [
  {
   "cell_type": "code",
   "execution_count": 1,
   "id": "afe41398-94bf-40e8-8646-dd805b479fb1",
   "metadata": {
    "tags": []
   },
   "outputs": [
    {
     "data": {
      "text/html": [
       "<div>\n",
       "<style scoped>\n",
       "    .dataframe tbody tr th:only-of-type {\n",
       "        vertical-align: middle;\n",
       "    }\n",
       "\n",
       "    .dataframe tbody tr th {\n",
       "        vertical-align: top;\n",
       "    }\n",
       "\n",
       "    .dataframe thead th {\n",
       "        text-align: right;\n",
       "    }\n",
       "</style>\n",
       "<table border=\"1\" class=\"dataframe\">\n",
       "  <thead>\n",
       "    <tr style=\"text-align: right;\">\n",
       "      <th></th>\n",
       "      <th>index</th>\n",
       "      <th>close</th>\n",
       "      <th>open</th>\n",
       "      <th>high</th>\n",
       "      <th>low</th>\n",
       "      <th>volume</th>\n",
       "      <th>datetime</th>\n",
       "      <th>time</th>\n",
       "    </tr>\n",
       "  </thead>\n",
       "  <tbody>\n",
       "    <tr>\n",
       "      <th>0</th>\n",
       "      <td>57</td>\n",
       "      <td>143.53</td>\n",
       "      <td>143.53</td>\n",
       "      <td>143.53</td>\n",
       "      <td>143.50</td>\n",
       "      <td>275300.0</td>\n",
       "      <td>2000-01-04 09:35:00</td>\n",
       "      <td>0.128205</td>\n",
       "    </tr>\n",
       "    <tr>\n",
       "      <th>1</th>\n",
       "      <td>58</td>\n",
       "      <td>143.25</td>\n",
       "      <td>143.56</td>\n",
       "      <td>143.78</td>\n",
       "      <td>143.22</td>\n",
       "      <td>124000.0</td>\n",
       "      <td>2000-01-04 09:40:00</td>\n",
       "      <td>0.256410</td>\n",
       "    </tr>\n",
       "    <tr>\n",
       "      <th>2</th>\n",
       "      <td>59</td>\n",
       "      <td>143.56</td>\n",
       "      <td>143.31</td>\n",
       "      <td>143.66</td>\n",
       "      <td>143.22</td>\n",
       "      <td>89200.0</td>\n",
       "      <td>2000-01-04 09:45:00</td>\n",
       "      <td>0.384615</td>\n",
       "    </tr>\n",
       "    <tr>\n",
       "      <th>3</th>\n",
       "      <td>60</td>\n",
       "      <td>143.94</td>\n",
       "      <td>143.50</td>\n",
       "      <td>144.06</td>\n",
       "      <td>143.50</td>\n",
       "      <td>67600.0</td>\n",
       "      <td>2000-01-04 09:50:00</td>\n",
       "      <td>0.512821</td>\n",
       "    </tr>\n",
       "    <tr>\n",
       "      <th>4</th>\n",
       "      <td>61</td>\n",
       "      <td>143.97</td>\n",
       "      <td>144.00</td>\n",
       "      <td>144.06</td>\n",
       "      <td>143.69</td>\n",
       "      <td>145100.0</td>\n",
       "      <td>2000-01-04 09:55:00</td>\n",
       "      <td>0.641026</td>\n",
       "    </tr>\n",
       "  </tbody>\n",
       "</table>\n",
       "</div>"
      ],
      "text/plain": [
       "   index   close    open    high     low    volume            datetime  \\\n",
       "0     57  143.53  143.53  143.53  143.50  275300.0 2000-01-04 09:35:00   \n",
       "1     58  143.25  143.56  143.78  143.22  124000.0 2000-01-04 09:40:00   \n",
       "2     59  143.56  143.31  143.66  143.22   89200.0 2000-01-04 09:45:00   \n",
       "3     60  143.94  143.50  144.06  143.50   67600.0 2000-01-04 09:50:00   \n",
       "4     61  143.97  144.00  144.06  143.69  145100.0 2000-01-04 09:55:00   \n",
       "\n",
       "       time  \n",
       "0  0.128205  \n",
       "1  0.256410  \n",
       "2  0.384615  \n",
       "3  0.512821  \n",
       "4  0.641026  "
      ]
     },
     "execution_count": 1,
     "metadata": {},
     "output_type": "execute_result"
    }
   ],
   "source": [
    "import pandas as pd\n",
    "import os\n",
    "\n",
    "# Specify the directory path\n",
    "directory_path = './raw_data'\n",
    "\n",
    "# List all files in the directory\n",
    "all_files = os.listdir(directory_path)\n",
    "\n",
    "# Filter out files that end with .csv\n",
    "csv_files = [file for file in all_files if file.endswith('.csv')]\n",
    "\n",
    "# Read the CSV file\n",
    "df = pd.read_csv(os.path.join(directory_path, csv_files[0]))\n",
    "df['datetime'] = pd.to_datetime(df['datetime'])\n",
    "df.head()\n"
   ]
  },
  {
   "cell_type": "code",
   "execution_count": 2,
   "id": "c2272cca-0051-4359-8a78-90740d4c45e0",
   "metadata": {
    "tags": []
   },
   "outputs": [],
   "source": [
    "from utils.augment_price_data import augment_price_data"
   ]
  },
  {
   "cell_type": "code",
   "execution_count": 3,
   "id": "ea423c87-a784-40c8-a7ec-39341f252a33",
   "metadata": {
    "tags": []
   },
   "outputs": [],
   "source": [
    "#!pip install pandas_market_calendars\n"
   ]
  },
  {
   "cell_type": "code",
   "execution_count": 4,
   "id": "3a5ed9d4-7950-412c-acee-bf85c2d20c58",
   "metadata": {
    "tags": []
   },
   "outputs": [
    {
     "data": {
      "text/plain": [
       "6032"
      ]
     },
     "execution_count": 4,
     "metadata": {},
     "output_type": "execute_result"
    }
   ],
   "source": [
    "# Get market opening days\n",
    "import pandas as pd \n",
    "from pandas_market_calendars import get_calendar\n",
    "# Get the NYSE calendar\n",
    "nyse = get_calendar(\"XNYS\")\n",
    "# Get the valid trading days for the specified date range\n",
    "trading_days = nyse.valid_days(start_date='2000-01-04', end_date='2023-12-22').date\n",
    "len(trading_days)"
   ]
  },
  {
   "cell_type": "code",
   "execution_count": 6,
   "id": "e1702887-d3f1-403b-9e5a-662cfb610a64",
   "metadata": {
    "tags": []
   },
   "outputs": [],
   "source": [
    "from tqdm import tqdm\n",
    "\n",
    "# function generates a synthesized data\n",
    "def obtain_syn_data(original_df:pd.DataFrame, lam:float) -> pd.DataFrame:\n",
    "    synth_frames = []\n",
    "    for timestamp in tqdm(trading_days):\n",
    "        original_df_day = original_df[original_df['datetime'].dt.date == timestamp]\n",
    "        original_df_day_synth = augment_price_data(original_df_day, lam=lam)\n",
    "        synth_frames.append(original_df_day_synth)\n",
    "\n",
    "    # Concatenate all DataFrames in the list\n",
    "    df_synth = pd.concat(synth_frames, axis=0)\n",
    "\n",
    "    # Optionally reset the index if needed\n",
    "    df_synth.reset_index(drop=True, inplace=True)\n",
    "    # Both have the same dates, volume, time\n",
    "    df_synth[['datetime', 'volume']] = original_df[['datetime', 'volume']]\n",
    "\n",
    "    print(f\"Augmented: {len(df_synth)}\")\n",
    "    print(f\"Original: {len(original_df)}\")\n",
    "\n",
    "    return df_synth\n",
    "\n",
    "#spy_df_synth = obtain_syn_data(df, lam=0.5)\n",
    "#spy_df_synth"
   ]
  },
  {
   "cell_type": "code",
   "execution_count": 7,
   "id": "25400919-40b8-43a0-b116-ff8533039c62",
   "metadata": {
    "tags": []
   },
   "outputs": [
    {
     "name": "stderr",
     "output_type": "stream",
     "text": [
      "  0%|          | 0/2 [00:00<?, ?it/s]\n",
      "  0%|          | 0/6032 [00:00<?, ?it/s]\u001b[A\n",
      "  0%|          | 1/6032 [00:00<44:13,  2.27it/s]\u001b[A\n",
      "  0%|          | 2/6032 [00:00<43:51,  2.29it/s]\u001b[A\n",
      "  0%|          | 3/6032 [00:01<43:06,  2.33it/s]\u001b[A\n",
      "  0%|          | 4/6032 [00:01<42:35,  2.36it/s]\u001b[A\n",
      "  0%|          | 5/6032 [00:02<42:07,  2.38it/s]\u001b[A\n",
      "  0%|          | 6/6032 [00:02<39:41,  2.53it/s]\u001b[A\n",
      "  0%|          | 7/6032 [00:02<33:53,  2.96it/s]\u001b[A\n",
      "  0%|          | 8/6032 [00:02<30:11,  3.33it/s]\u001b[A\n",
      "  0%|          | 9/6032 [00:03<27:07,  3.70it/s]\u001b[A\n",
      "  0%|          | 10/6032 [00:03<25:03,  4.01it/s]\u001b[A\n",
      "  0%|          | 11/6032 [00:03<23:36,  4.25it/s]\u001b[A\n",
      "  0%|          | 12/6032 [00:03<22:37,  4.43it/s]\u001b[A\n",
      "  0%|          | 13/6032 [00:03<21:59,  4.56it/s]\u001b[A\n",
      "  0%|          | 14/6032 [00:04<21:35,  4.64it/s]\u001b[A\n",
      "  0%|          | 15/6032 [00:04<21:19,  4.70it/s]\u001b[A\n",
      "  0%|          | 16/6032 [00:04<21:05,  4.76it/s]\u001b[A\n",
      "  0%|          | 17/6032 [00:04<20:53,  4.80it/s]\u001b[A\n",
      "  0%|          | 18/6032 [00:04<20:54,  4.79it/s]\u001b[A\n",
      "  0%|          | 19/6032 [00:05<20:50,  4.81it/s]\u001b[A\n",
      "  0%|          | 20/6032 [00:05<20:49,  4.81it/s]\u001b[A\n",
      "  0%|          | 21/6032 [00:05<20:49,  4.81it/s]\u001b[A\n",
      "  0%|          | 22/6032 [00:05<20:41,  4.84it/s]\u001b[A\n",
      "  0%|          | 23/6032 [00:05<20:35,  4.86it/s]\u001b[A\n",
      "  0%|          | 24/6032 [00:06<20:33,  4.87it/s]\u001b[A\n",
      "  0%|          | 25/6032 [00:06<20:31,  4.88it/s]\u001b[A\n",
      "  0%|          | 26/6032 [00:06<20:30,  4.88it/s]\u001b[A\n",
      "  0%|          | 27/6032 [00:06<20:28,  4.89it/s]\u001b[A\n",
      "  0%|          | 28/6032 [00:07<20:33,  4.87it/s]\u001b[A\n",
      "  0%|          | 29/6032 [00:07<20:30,  4.88it/s]\u001b[A\n",
      "  0%|          | 30/6032 [00:07<20:35,  4.86it/s]\u001b[A\n",
      "  1%|          | 31/6032 [00:07<20:37,  4.85it/s]\u001b[A\n",
      "  1%|          | 32/6032 [00:07<20:38,  4.84it/s]\u001b[A\n",
      "  1%|          | 33/6032 [00:08<20:54,  4.78it/s]\u001b[A\n",
      "  1%|          | 34/6032 [00:08<21:43,  4.60it/s]\u001b[A\n",
      "  1%|          | 35/6032 [00:08<21:33,  4.64it/s]\u001b[A\n",
      "  1%|          | 36/6032 [00:08<21:10,  4.72it/s]\u001b[A\n",
      "  1%|          | 37/6032 [00:08<20:56,  4.77it/s]\u001b[A\n",
      "  1%|          | 38/6032 [00:09<20:52,  4.79it/s]\u001b[A\n",
      "  1%|          | 39/6032 [00:09<20:43,  4.82it/s]\u001b[A\n",
      "  1%|          | 40/6032 [00:09<20:38,  4.84it/s]\u001b[A\n",
      "  1%|          | 41/6032 [00:09<20:33,  4.86it/s]\u001b[A\n",
      "  1%|          | 42/6032 [00:09<20:30,  4.87it/s]\u001b[A\n",
      "  1%|          | 43/6032 [00:10<20:28,  4.88it/s]\u001b[A\n",
      "  1%|          | 44/6032 [00:10<20:28,  4.88it/s]\u001b[A\n",
      "  1%|          | 45/6032 [00:10<20:24,  4.89it/s]\u001b[A\n",
      "  1%|          | 46/6032 [00:10<20:21,  4.90it/s]\u001b[A\n",
      "  1%|          | 47/6032 [00:10<20:26,  4.88it/s]\u001b[A\n",
      "  1%|          | 48/6032 [00:11<20:34,  4.85it/s]\u001b[A\n",
      "  1%|          | 49/6032 [00:11<20:32,  4.86it/s]\u001b[A\n",
      "  1%|          | 50/6032 [00:11<20:32,  4.85it/s]\u001b[A\n",
      "  1%|          | 51/6032 [00:11<20:26,  4.88it/s]\u001b[A\n",
      "  1%|          | 52/6032 [00:11<20:24,  4.88it/s]\u001b[A\n",
      "  1%|          | 53/6032 [00:12<20:22,  4.89it/s]\u001b[A\n",
      "  1%|          | 54/6032 [00:12<20:21,  4.89it/s]\u001b[A\n",
      "  1%|          | 55/6032 [00:12<20:25,  4.88it/s]\u001b[A\n",
      "  1%|          | 56/6032 [00:12<20:28,  4.86it/s]\u001b[A\n",
      "  1%|          | 57/6032 [00:13<20:25,  4.87it/s]\u001b[A\n",
      "  1%|          | 58/6032 [00:13<20:24,  4.88it/s]\u001b[A\n",
      "  1%|          | 59/6032 [00:13<20:22,  4.89it/s]\u001b[A\n",
      "  1%|          | 60/6032 [00:13<20:26,  4.87it/s]\u001b[A\n",
      "  1%|          | 61/6032 [00:13<20:26,  4.87it/s]\u001b[A\n",
      "  1%|          | 62/6032 [00:14<20:23,  4.88it/s]\u001b[A\n",
      "  1%|          | 63/6032 [00:14<20:30,  4.85it/s]\u001b[A\n",
      "  1%|          | 64/6032 [00:14<20:29,  4.86it/s]\u001b[A\n",
      "  1%|          | 65/6032 [00:14<20:23,  4.88it/s]\u001b[A\n",
      "  1%|          | 66/6032 [00:14<20:21,  4.88it/s]\u001b[A\n",
      "  1%|          | 67/6032 [00:15<20:23,  4.88it/s]\u001b[A\n",
      "  1%|          | 68/6032 [00:15<20:29,  4.85it/s]\u001b[A\n",
      "  1%|          | 69/6032 [00:15<20:30,  4.85it/s]\u001b[A\n",
      "  1%|          | 70/6032 [00:15<20:29,  4.85it/s]\u001b[A\n",
      "  1%|          | 71/6032 [00:15<20:28,  4.85it/s]\u001b[A\n",
      "  1%|          | 72/6032 [00:16<20:30,  4.84it/s]\u001b[A\n",
      "  1%|          | 73/6032 [00:16<20:28,  4.85it/s]\u001b[A\n",
      "  1%|          | 74/6032 [00:16<20:24,  4.87it/s]\u001b[A\n",
      "  1%|          | 75/6032 [00:17<33:19,  2.98it/s]\u001b[A\n",
      "  1%|▏         | 76/6032 [00:17<37:07,  2.67it/s]\u001b[A\n",
      "  1%|▏         | 77/6032 [00:18<39:28,  2.51it/s]\u001b[A\n",
      "  1%|▏         | 78/6032 [00:18<41:36,  2.39it/s]\u001b[A\n",
      "  1%|▏         | 79/6032 [00:19<24:24,  4.06it/s]\u001b[A\n",
      "  0%|          | 0/2 [00:19<?, ?it/s]\n"
     ]
    },
    {
     "ename": "KeyboardInterrupt",
     "evalue": "",
     "output_type": "error",
     "traceback": [
      "\u001b[0;31m---------------------------------------------------------------------------\u001b[0m",
      "\u001b[0;31mKeyboardInterrupt\u001b[0m                         Traceback (most recent call last)",
      "Cell \u001b[0;32mIn[7], line 4\u001b[0m\n\u001b[1;32m      1\u001b[0m num_of_aug_sets \u001b[38;5;241m=\u001b[39m \u001b[38;5;241m2\u001b[39m\n\u001b[1;32m      3\u001b[0m \u001b[38;5;28;01mfor\u001b[39;00m i \u001b[38;5;129;01min\u001b[39;00m tqdm(\u001b[38;5;28mrange\u001b[39m(num_of_aug_sets)):\n\u001b[0;32m----> 4\u001b[0m     spy_df_synth \u001b[38;5;241m=\u001b[39m \u001b[43mobtain_syn_data\u001b[49m\u001b[43m(\u001b[49m\u001b[43mdf\u001b[49m\u001b[43m,\u001b[49m\u001b[43m \u001b[49m\u001b[43mlam\u001b[49m\u001b[38;5;241;43m=\u001b[39;49m\u001b[38;5;241;43m0.5\u001b[39;49m\u001b[43m)\u001b[49m\n\u001b[1;32m      5\u001b[0m     df\u001b[38;5;241m.\u001b[39mto_csv(\u001b[38;5;124mf\u001b[39m\u001b[38;5;124m'\u001b[39m\u001b[38;5;124maug_\u001b[39m\u001b[38;5;132;01m{\u001b[39;00mi\u001b[38;5;132;01m}\u001b[39;00m\u001b[38;5;124m.csv\u001b[39m\u001b[38;5;124m'\u001b[39m, index\u001b[38;5;241m=\u001b[39m\u001b[38;5;28;01mFalse\u001b[39;00m)\n",
      "Cell \u001b[0;32mIn[6], line 7\u001b[0m, in \u001b[0;36mobtain_syn_data\u001b[0;34m(original_df, lam)\u001b[0m\n\u001b[1;32m      5\u001b[0m synth_frames \u001b[38;5;241m=\u001b[39m []\n\u001b[1;32m      6\u001b[0m \u001b[38;5;28;01mfor\u001b[39;00m timestamp \u001b[38;5;129;01min\u001b[39;00m tqdm(trading_days):\n\u001b[0;32m----> 7\u001b[0m     original_df_day \u001b[38;5;241m=\u001b[39m original_df[\u001b[43moriginal_df\u001b[49m\u001b[43m[\u001b[49m\u001b[38;5;124;43m'\u001b[39;49m\u001b[38;5;124;43mdatetime\u001b[39;49m\u001b[38;5;124;43m'\u001b[39;49m\u001b[43m]\u001b[49m\u001b[38;5;241;43m.\u001b[39;49m\u001b[43mdt\u001b[49m\u001b[38;5;241;43m.\u001b[39;49m\u001b[43mdate\u001b[49m\u001b[43m \u001b[49m\u001b[38;5;241;43m==\u001b[39;49m\u001b[43m \u001b[49m\u001b[43mtimestamp\u001b[49m]\n\u001b[1;32m      8\u001b[0m     original_df_day_synth \u001b[38;5;241m=\u001b[39m augment_price_data(original_df_day, lam\u001b[38;5;241m=\u001b[39mlam)\n\u001b[1;32m      9\u001b[0m     synth_frames\u001b[38;5;241m.\u001b[39mappend(original_df_day_synth)\n",
      "File \u001b[0;32m/opt/conda/lib/python3.10/site-packages/pandas/core/ops/common.py:72\u001b[0m, in \u001b[0;36m_unpack_zerodim_and_defer.<locals>.new_method\u001b[0;34m(self, other)\u001b[0m\n\u001b[1;32m     68\u001b[0m             \u001b[38;5;28;01mreturn\u001b[39;00m \u001b[38;5;28mNotImplemented\u001b[39m\n\u001b[1;32m     70\u001b[0m other \u001b[38;5;241m=\u001b[39m item_from_zerodim(other)\n\u001b[0;32m---> 72\u001b[0m \u001b[38;5;28;01mreturn\u001b[39;00m \u001b[43mmethod\u001b[49m\u001b[43m(\u001b[49m\u001b[38;5;28;43mself\u001b[39;49m\u001b[43m,\u001b[49m\u001b[43m \u001b[49m\u001b[43mother\u001b[49m\u001b[43m)\u001b[49m\n",
      "File \u001b[0;32m/opt/conda/lib/python3.10/site-packages/pandas/core/arraylike.py:42\u001b[0m, in \u001b[0;36mOpsMixin.__eq__\u001b[0;34m(self, other)\u001b[0m\n\u001b[1;32m     40\u001b[0m \u001b[38;5;129m@unpack_zerodim_and_defer\u001b[39m(\u001b[38;5;124m\"\u001b[39m\u001b[38;5;124m__eq__\u001b[39m\u001b[38;5;124m\"\u001b[39m)\n\u001b[1;32m     41\u001b[0m \u001b[38;5;28;01mdef\u001b[39;00m \u001b[38;5;21m__eq__\u001b[39m(\u001b[38;5;28mself\u001b[39m, other):\n\u001b[0;32m---> 42\u001b[0m     \u001b[38;5;28;01mreturn\u001b[39;00m \u001b[38;5;28;43mself\u001b[39;49m\u001b[38;5;241;43m.\u001b[39;49m\u001b[43m_cmp_method\u001b[49m\u001b[43m(\u001b[49m\u001b[43mother\u001b[49m\u001b[43m,\u001b[49m\u001b[43m \u001b[49m\u001b[43moperator\u001b[49m\u001b[38;5;241;43m.\u001b[39;49m\u001b[43meq\u001b[49m\u001b[43m)\u001b[49m\n",
      "File \u001b[0;32m/opt/conda/lib/python3.10/site-packages/pandas/core/series.py:6243\u001b[0m, in \u001b[0;36mSeries._cmp_method\u001b[0;34m(self, other, op)\u001b[0m\n\u001b[1;32m   6240\u001b[0m rvalues \u001b[38;5;241m=\u001b[39m extract_array(other, extract_numpy\u001b[38;5;241m=\u001b[39m\u001b[38;5;28;01mTrue\u001b[39;00m, extract_range\u001b[38;5;241m=\u001b[39m\u001b[38;5;28;01mTrue\u001b[39;00m)\n\u001b[1;32m   6242\u001b[0m \u001b[38;5;28;01mwith\u001b[39;00m np\u001b[38;5;241m.\u001b[39merrstate(\u001b[38;5;28mall\u001b[39m\u001b[38;5;241m=\u001b[39m\u001b[38;5;124m\"\u001b[39m\u001b[38;5;124mignore\u001b[39m\u001b[38;5;124m\"\u001b[39m):\n\u001b[0;32m-> 6243\u001b[0m     res_values \u001b[38;5;241m=\u001b[39m \u001b[43mops\u001b[49m\u001b[38;5;241;43m.\u001b[39;49m\u001b[43mcomparison_op\u001b[49m\u001b[43m(\u001b[49m\u001b[43mlvalues\u001b[49m\u001b[43m,\u001b[49m\u001b[43m \u001b[49m\u001b[43mrvalues\u001b[49m\u001b[43m,\u001b[49m\u001b[43m \u001b[49m\u001b[43mop\u001b[49m\u001b[43m)\u001b[49m\n\u001b[1;32m   6245\u001b[0m \u001b[38;5;28;01mreturn\u001b[39;00m \u001b[38;5;28mself\u001b[39m\u001b[38;5;241m.\u001b[39m_construct_result(res_values, name\u001b[38;5;241m=\u001b[39mres_name)\n",
      "File \u001b[0;32m/opt/conda/lib/python3.10/site-packages/pandas/core/ops/array_ops.py:287\u001b[0m, in \u001b[0;36mcomparison_op\u001b[0;34m(left, right, op)\u001b[0m\n\u001b[1;32m    284\u001b[0m     \u001b[38;5;28;01mreturn\u001b[39;00m invalid_comparison(lvalues, rvalues, op)\n\u001b[1;32m    286\u001b[0m \u001b[38;5;28;01melif\u001b[39;00m is_object_dtype(lvalues\u001b[38;5;241m.\u001b[39mdtype) \u001b[38;5;129;01mor\u001b[39;00m \u001b[38;5;28misinstance\u001b[39m(rvalues, \u001b[38;5;28mstr\u001b[39m):\n\u001b[0;32m--> 287\u001b[0m     res_values \u001b[38;5;241m=\u001b[39m \u001b[43mcomp_method_OBJECT_ARRAY\u001b[49m\u001b[43m(\u001b[49m\u001b[43mop\u001b[49m\u001b[43m,\u001b[49m\u001b[43m \u001b[49m\u001b[43mlvalues\u001b[49m\u001b[43m,\u001b[49m\u001b[43m \u001b[49m\u001b[43mrvalues\u001b[49m\u001b[43m)\u001b[49m\n\u001b[1;32m    289\u001b[0m \u001b[38;5;28;01melse\u001b[39;00m:\n\u001b[1;32m    290\u001b[0m     res_values \u001b[38;5;241m=\u001b[39m _na_arithmetic_op(lvalues, rvalues, op, is_cmp\u001b[38;5;241m=\u001b[39m\u001b[38;5;28;01mTrue\u001b[39;00m)\n",
      "File \u001b[0;32m/opt/conda/lib/python3.10/site-packages/pandas/core/ops/array_ops.py:75\u001b[0m, in \u001b[0;36mcomp_method_OBJECT_ARRAY\u001b[0;34m(op, x, y)\u001b[0m\n\u001b[1;32m     73\u001b[0m     result \u001b[38;5;241m=\u001b[39m libops\u001b[38;5;241m.\u001b[39mvec_compare(x\u001b[38;5;241m.\u001b[39mravel(), y\u001b[38;5;241m.\u001b[39mravel(), op)\n\u001b[1;32m     74\u001b[0m \u001b[38;5;28;01melse\u001b[39;00m:\n\u001b[0;32m---> 75\u001b[0m     result \u001b[38;5;241m=\u001b[39m \u001b[43mlibops\u001b[49m\u001b[38;5;241;43m.\u001b[39;49m\u001b[43mscalar_compare\u001b[49m\u001b[43m(\u001b[49m\u001b[43mx\u001b[49m\u001b[38;5;241;43m.\u001b[39;49m\u001b[43mravel\u001b[49m\u001b[43m(\u001b[49m\u001b[43m)\u001b[49m\u001b[43m,\u001b[49m\u001b[43m \u001b[49m\u001b[43my\u001b[49m\u001b[43m,\u001b[49m\u001b[43m \u001b[49m\u001b[43mop\u001b[49m\u001b[43m)\u001b[49m\n\u001b[1;32m     76\u001b[0m \u001b[38;5;28;01mreturn\u001b[39;00m result\u001b[38;5;241m.\u001b[39mreshape(x\u001b[38;5;241m.\u001b[39mshape)\n",
      "\u001b[0;31mKeyboardInterrupt\u001b[0m: "
     ]
    }
   ],
   "source": [
    "num_of_aug_sets = 2\n",
    "\n",
    "for i in tqdm(range(num_of_aug_sets)):\n",
    "    spy_df_synth = obtain_syn_data(df, lam=0.5)\n",
    "    df.to_csv(f'aug_{i}.csv', index=False)\n",
    "    "
   ]
  },
  {
   "cell_type": "code",
   "execution_count": null,
   "id": "1a7a12ef-e824-413b-89e2-2cb16d49bb77",
   "metadata": {},
   "outputs": [],
   "source": []
  }
 ],
 "metadata": {
  "environment": {
   "kernel": "python3",
   "name": "common-cpu.m115",
   "type": "gcloud",
   "uri": "gcr.io/deeplearning-platform-release/base-cpu:m115"
  },
  "kernelspec": {
   "display_name": "Python 3",
   "language": "python",
   "name": "python3"
  },
  "language_info": {
   "codemirror_mode": {
    "name": "ipython",
    "version": 3
   },
   "file_extension": ".py",
   "mimetype": "text/x-python",
   "name": "python",
   "nbconvert_exporter": "python",
   "pygments_lexer": "ipython3",
   "version": "3.10.13"
  }
 },
 "nbformat": 4,
 "nbformat_minor": 5
}
